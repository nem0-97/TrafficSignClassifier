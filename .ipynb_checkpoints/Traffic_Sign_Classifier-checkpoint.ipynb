{
 "cells": [
  {
   "cell_type": "markdown",
   "metadata": {},
   "source": [
    "# Self-Driving Car Engineer Nanodegree\n",
    "\n",
    "## Deep Learning\n",
    "\n",
    "## Project: Build a Traffic Sign Recognition Classifier\n",
    "\n",
    "In this notebook, a template is provided for you to implement your functionality in stages, which is required to successfully complete this project. If additional code is required that cannot be included in the notebook, be sure that the Python code is successfully imported and included in your submission if necessary. \n",
    "\n",
    "> **Note**: Once you have completed all of the code implementations, you need to finalize your work by exporting the iPython Notebook as an HTML document. Before exporting the notebook to html, all of the code cells need to have been run so that reviewers can see the final implementation and output. You can then export the notebook by using the menu above and navigating to  \\n\",\n",
    "    \"**File -> Download as -> HTML (.html)**. Include the finished document along with this notebook as your submission. \n",
    "\n",
    "In addition to implementing code, there is a writeup to complete. The writeup should be completed in a separate file, which can be either a markdown file or a pdf document. There is a [write up template](https://github.com/udacity/CarND-Traffic-Sign-Classifier-Project/blob/master/writeup_template.md) that can be used to guide the writing process. Completing the code template and writeup template will cover all of the [rubric points](https://review.udacity.com/#!/rubrics/481/view) for this project.\n",
    "\n",
    "The [rubric](https://review.udacity.com/#!/rubrics/481/view) contains \"Stand Out Suggestions\" for enhancing the project beyond the minimum requirements. The stand out suggestions are optional. If you decide to pursue the \"stand out suggestions\", you can include the code in this Ipython notebook and also discuss the results in the writeup file.\n",
    "\n",
    "\n",
    ">**Note:** Code and Markdown cells can be executed using the **Shift + Enter** keyboard shortcut. In addition, Markdown cells can be edited by typically double-clicking the cell to enter edit mode."
   ]
  },
  {
   "cell_type": "markdown",
   "metadata": {},
   "source": [
    "---\n",
    "## Step 0: Load The Data"
   ]
  },
  {
   "cell_type": "code",
   "execution_count": 1,
   "metadata": {},
   "outputs": [],
   "source": [
    "#TODO: visualization\n",
    "\n",
    "# Load pickled data\n",
    "import pickle\n",
    "\n",
    "training_file = './data/train.p'\n",
    "validation_file='./data/valid.p'\n",
    "testing_file = './data/test.p'\n",
    "\n",
    "with open(training_file, mode='rb') as f:\n",
    "    train = pickle.load(f)\n",
    "with open(validation_file, mode='rb') as f:\n",
    "    valid = pickle.load(f)\n",
    "with open(testing_file, mode='rb') as f:\n",
    "    test = pickle.load(f)\n",
    "    \n",
    "X_train, y_train = train['features'], train['labels']\n",
    "X_valid, y_valid = valid['features'], valid['labels']\n",
    "X_test, y_test = test['features'], test['labels']"
   ]
  },
  {
   "cell_type": "markdown",
   "metadata": {},
   "source": [
    "---\n",
    "\n",
    "## Step 1: Dataset Summary & Exploration\n",
    "\n",
    "The pickled data is a dictionary with 4 key/value pairs:\n",
    "\n",
    "- `'features'` is a 4D array containing raw pixel data of the traffic sign images, (num examples, width, height, channels).\n",
    "- `'labels'` is a 1D array containing the label/class id of the traffic sign. The file `signnames.csv` contains id -> name mappings for each id.\n",
    "- `'sizes'` is a list containing tuples, (width, height) representing the original width and height the image.\n",
    "- `'coords'` is a list containing tuples, (x1, y1, x2, y2) representing coordinates of a bounding box around the sign in the image. **THESE COORDINATES ASSUME THE ORIGINAL IMAGE. THE PICKLED DATA CONTAINS RESIZED VERSIONS (32 by 32) OF THESE IMAGES**\n",
    "\n",
    "Complete the basic data summary below. Use python, numpy and/or pandas methods to calculate the data summary rather than hard coding the results. For example, the [pandas shape method](http://pandas.pydata.org/pandas-docs/stable/generated/pandas.DataFrame.shape.html) might be useful for calculating some of the summary results. "
   ]
  },
  {
   "cell_type": "markdown",
   "metadata": {},
   "source": [
    "### Provide a Basic Summary of the Data Set Using Python, Numpy and/or Pandas"
   ]
  },
  {
   "cell_type": "code",
   "execution_count": 2,
   "metadata": {},
   "outputs": [
    {
     "name": "stdout",
     "output_type": "stream",
     "text": [
      "Number of training examples = 34799\n",
      "Number of testing examples = 12630\n",
      "Number of validation examples = 4410\n",
      "Image data shape = (32, 32, 3)\n",
      "Number of labels = 43\n",
      "Least number of examples for a label =  180\n",
      "(34799,)\n"
     ]
    }
   ],
   "source": [
    "import numpy as np \n",
    "\n",
    "assert(len(X_train) == len(y_train))\n",
    "assert(len(X_valid) == len(y_valid))\n",
    "assert(len(X_test) == len(y_test))\n",
    "\n",
    "labls,lblFreqs=np.unique(y_train,return_counts=True)\n",
    "numLabels=len(labls)\n",
    "print(\"Number of training examples =\", len(X_train))\n",
    "print(\"Number of testing examples =\", len(X_test))\n",
    "print(\"Number of validation examples =\", len(X_valid))\n",
    "print(\"Image data shape =\", X_train[0].shape)\n",
    "print(\"Number of labels =\",numLabels)\n",
    "print(\"Least number of examples for a label = \",lblFreqs.min())\n",
    "print(y_train.shape)"
   ]
  },
  {
   "cell_type": "markdown",
   "metadata": {},
   "source": [
    "### Include an exploratory visualization of the dataset"
   ]
  },
  {
   "cell_type": "markdown",
   "metadata": {},
   "source": [
    "Visualize the German Traffic Signs Dataset using the pickled file(s). This is open ended, suggestions include: plotting traffic sign images, plotting the count of each sign, etc. \n",
    "\n",
    "The [Matplotlib](http://matplotlib.org/) [examples](http://matplotlib.org/examples/index.html) and [gallery](http://matplotlib.org/gallery.html) pages are a great resource for doing visualizations in Python.\n",
    "\n",
    "**NOTE:** It's recommended you start with something simple first. If you wish to do more, come back to it after you've completed the rest of the sections. It can be interesting to look at the distribution of classes in the training, validation and test set. Is the distribution the same? Are there more examples of some classes than others?"
   ]
  },
  {
   "cell_type": "code",
   "execution_count": 3,
   "metadata": {},
   "outputs": [
    {
     "data": {
      "image/png": "[encoded data removed]",
      "text/plain": [
       "<Figure size 432x288 with 1 Axes>"
      ]
     },
     "metadata": {
      "needs_background": "light"
     },
     "output_type": "display_data"
    },
    {
     "name": "stdout",
     "output_type": "stream",
     "text": [
      "25\n"
     ]
    },
    {
     "data": {
      "image/png": "[encoded data removed]",
      "text/plain": [
       "<Figure size 432x288 with 1 Axes>"
      ]
     },
     "metadata": {
      "needs_background": "light"
     },
     "output_type": "display_data"
    }
   ],
   "source": [
    "### Data exploration visualization code goes here.\n",
    "### Feel free to use as many code cells as needed.\n",
    "import matplotlib.pyplot as plt\n",
    "# Visualizations will be shown in the notebook.\n",
    "%matplotlib inline\n",
    "\n",
    "#Show distribution of training data by sign type(y_train)\n",
    "hist,bins=np.histogram(y_train,bins=numLabels)\n",
    "#hist,bins=lblFreqs,labls.astype('float64')#Why doesn't this work all types are same for hist, cente, and width like this but plt.bar gives error\n",
    "\n",
    "width = 0.7*(bins[1] - bins[0])\n",
    "center = (bins[:-1] + bins[1:]) / 2\n",
    "plt.bar(center, hist, align='center', width=width)\n",
    "plt.title(\"Distribution of training data by sign ID\")\n",
    "plt.show()\n",
    "\n",
    "#Look at random image and its label\n",
    "ind=np.random.randint(0,len(X_train)-1)\n",
    "\n",
    "plt.figure()\n",
    "plt.imshow(X_train[ind].squeeze())\n",
    "\n",
    "print(y_train[ind])"
   ]
  },
  {
   "cell_type": "markdown",
   "metadata": {},
   "source": [
    "----\n",
    "\n",
    "## Step 2: Design and Test a Model Architecture\n",
    "\n",
    "Design and implement a deep learning model that learns to recognize traffic signs. Train and test your model on the [German Traffic Sign Dataset](http://benchmark.ini.rub.de/?section=gtsrb&subsection=dataset).\n",
    "\n",
    "The LeNet-5 implementation shown in the [classroom](https://classroom.udacity.com/nanodegrees/nd013/parts/fbf77062-5703-404e-b60c-95b78b2f3f9e/modules/6df7ae49-c61c-4bb2-a23e-6527e69209ec/lessons/601ae704-1035-4287-8b11-e2c2716217ad/concepts/d4aca031-508f-4e0b-b493-e7b706120f81) at the end of the CNN lesson is a solid starting point. You'll have to change the number of classes and possibly the preprocessing, but aside from that it's plug and play! \n",
    "\n",
    "With the LeNet-5 solution from the lecture, you should expect a validation set accuracy of about 0.89. To meet specifications, the validation set accuracy will need to be at least 0.93. It is possible to get an even higher accuracy, but 0.93 is the minimum for a successful project submission. \n",
    "\n",
    "There are various aspects to consider when thinking about this problem:\n",
    "\n",
    "- Neural network architecture (is the network over or underfitting?)\n",
    "- Play around preprocessing techniques (normalization, rgb to grayscale, etc)\n",
    "- Number of examples per label (some have more than others).\n",
    "- Generate fake data.\n",
    "\n",
    "Here is an example of a [published baseline model on this problem](http://yann.lecun.com/exdb/publis/pdf/sermanet-ijcnn-11.pdf). It's not required to be familiar with the approach used in the paper but, it's good practice to try to read papers like these."
   ]
  },
  {
   "cell_type": "markdown",
   "metadata": {},
   "source": [
    "### Pre-process the Data Set (normalization, grayscale, etc.)"
   ]
  },
  {
   "cell_type": "markdown",
   "metadata": {},
   "source": [
    "Minimally, the image data should be normalized so that the data has mean zero and equal variance. For image data, `(pixel - 128)/ 128` is a quick way to approximately normalize the data and can be used in this project. \n",
    "\n",
    "Other pre-processing steps are optional. You can try different techniques to see if it improves performance. \n",
    "\n",
    "Use the code cell (or multiple code cells, if necessary) to implement the first step of your project."
   ]
  },
  {
   "cell_type": "code",
   "execution_count": 4,
   "metadata": {},
   "outputs": [
    {
     "name": "stdout",
     "output_type": "stream",
     "text": [
      "[28 25 24]\n",
      "[25.66666667]\n"
     ]
    }
   ],
   "source": [
    "#converting to grayscale(method used is average of RGB values)\n",
    "print(X_train[0][0][0])\n",
    "X_train=np.mean(X_train,axis=3,keepdims=True)\n",
    "print(X_train[0][0][0])\n",
    "X_valid=np.mean(X_valid,axis=3,keepdims=True)\n",
    "X_test=np.mean(X_test,axis=3,keepdims=True)"
   ]
  },
  {
   "cell_type": "code",
   "execution_count": 5,
   "metadata": {},
   "outputs": [
    {
     "name": "stdout",
     "output_type": "stream",
     "text": [
      "[25.66666667]\n",
      "[-0.79947917]\n",
      "-0.35408133564846583\n",
      "New input data shape = (32, 32, 1)\n"
     ]
    }
   ],
   "source": [
    "#Normalize the data\n",
    "print(X_train[0][0][0])\n",
    "X_train=(X_train-128)/128\n",
    "print(X_train[0][0][0])\n",
    "print(np.mean(X_train))\n",
    "X_valid=(X_valid-128)/128\n",
    "X_test=(X_test-128)/128\n",
    "\n",
    "print(\"New input data shape =\", X_train[0].shape)\n",
    "#Other preprocessing steps could include\n",
    "#making a more uniform distribution of labels\n",
    "    #(labels with less examples for make more by doing things to some examples already have of them, change brightness,rotate, etc.)"
   ]
  },
  {
   "cell_type": "code",
   "execution_count": 6,
   "metadata": {},
   "outputs": [
    {
     "data": {
      "text/plain": [
       "<matplotlib.image.AxesImage at 0x12608fcc0>"
      ]
     },
     "execution_count": 6,
     "metadata": {},
     "output_type": "execute_result"
    },
    {
     "data": {
      "image/png": "[encoded data removed]",
      "text/plain": [
       "<Figure size 432x288 with 1 Axes>"
      ]
     },
     "metadata": {
      "needs_background": "light"
     },
     "output_type": "display_data"
    },
    {
     "data": {
      "image/png": "[encoded data removed]",
      "text/plain": [
       "<Figure size 432x288 with 1 Axes>"
      ]
     },
     "metadata": {
      "needs_background": "light"
     },
     "output_type": "display_data"
    }
   ],
   "source": [
    "#Question: Should goal be to make uniform distribution of data amongst labels, \n",
    "            #or to add examples for labels with less than say 1000 examples?\n",
    "\n",
    "#Augmenting labels with less than 1000 examples\n",
    "#Only do things to images that do not change their label, \n",
    "    #so no rotations/flipping\n",
    "    #(easier than checking sign type,only rotating/flipping if certain type and figuring out new label)\n",
    "    \n",
    "plt.figure()\n",
    "plt.imshow(X_train[ind].squeeze(),cmap='gray')\n",
    "def bright(im):#slight and random\n",
    "    db=np.random.rand()#random amount to change every pixels brightness by make sure not 0\n",
    "    return np.where((1-im)<db,1,im+db)\n",
    "\n",
    "plt.figure()\n",
    "plt.imshow(bright(X_train[ind]).squeeze(),cmap='gray')"
   ]
  },
  {
   "cell_type": "code",
   "execution_count": 7,
   "metadata": {},
   "outputs": [
    {
     "data": {
      "text/plain": [
       "<matplotlib.image.AxesImage at 0x1260c1b00>"
      ]
     },
     "execution_count": 7,
     "metadata": {},
     "output_type": "execute_result"
    },
    {
     "data": {
      "image/png": "[encoded data removed]",
      "text/plain": [
       "<Figure size 432x288 with 1 Axes>"
      ]
     },
     "metadata": {
      "needs_background": "light"
     },
     "output_type": "display_data"
    },
    {
     "data": {
      "image/png": "[encoded data removed]",
      "text/plain": [
       "<Figure size 432x288 with 1 Axes>"
      ]
     },
     "metadata": {
      "needs_background": "light"
     },
     "output_type": "display_data"
    }
   ],
   "source": [
    "plt.figure()\n",
    "plt.imshow(X_train[ind].squeeze(),cmap='gray')\n",
    "def translate(im):#slight and random\n",
    "    #get number of rows and cols to move\n",
    "    ds=np.random.choice([-2,-1,1,2],2)#Make sure 0 is not chosen\n",
    "    #Move the bottom ds[0] rows of pixels to top of image \n",
    "    im=np.roll(im,ds[0],axis=0)\n",
    "    #Move right ds[1] columns of pixels to left of image\n",
    "    return np.roll(im,ds[1],axis=1)\n",
    "\n",
    "plt.figure()\n",
    "plt.imshow(translate(X_train[ind]).squeeze(),cmap='gray')"
   ]
  },
  {
   "cell_type": "code",
   "execution_count": 8,
   "metadata": {},
   "outputs": [
    {
     "data": {
      "text/plain": [
       "<matplotlib.image.AxesImage at 0x111f4ad30>"
      ]
     },
     "execution_count": 8,
     "metadata": {},
     "output_type": "execute_result"
    },
    {
     "data": {
      "image/png": "[encoded data removed]",
      "text/plain": [
       "<Figure size 432x288 with 1 Axes>"
      ]
     },
     "metadata": {
      "needs_background": "light"
     },
     "output_type": "display_data"
    },
    {
     "data": {
      "image/png": "[encoded data removed]",
      "text/plain": [
       "<Figure size 432x288 with 1 Axes>"
      ]
     },
     "metadata": {
      "needs_background": "light"
     },
     "output_type": "display_data"
    }
   ],
   "source": [
    "plt.figure()\n",
    "plt.imshow(X_train[ind].squeeze(),cmap='gray')\n",
    "import cv2\n",
    "def resize(im):#a slight random resize\n",
    "    ds=np.random.choice([1,2,3],2)\n",
    "    #Four corners of the image\n",
    "    dst=np.float32([[0,0],[im.shape[1],0],[im.shape[1],im.shape[0]],[0,im.shape[0]]])\n",
    "    #Random four points by image corners\n",
    "    src=np.float32([[ds[0],ds[1]],[im.shape[1]-ds[0],ds[1]],[im.shape[1]-ds[0],im.shape[0]-ds[1]],[ds[0],im.shape[0]-ds[1]]])\n",
    "    #Warp\n",
    "    im=cv2.warpPerspective(im,cv2.getPerspectiveTransform(src,dst),(im.shape[1],im.shape[0]),flags=cv2.INTER_LINEAR)\n",
    "    return im[:,:,np.newaxis]\n",
    "\n",
    "plt.figure()\n",
    "plt.imshow(resize(X_train[ind]).squeeze(),cmap='gray')"
   ]
  },
  {
   "cell_type": "code",
   "execution_count": 9,
   "metadata": {},
   "outputs": [
    {
     "name": "stdout",
     "output_type": "stream",
     "text": [
      "(32, 32, 1)\n"
     ]
    },
    {
     "data": {
      "image/png": "[encoded data removed]",
      "text/plain": [
       "<Figure size 432x288 with 1 Axes>"
      ]
     },
     "metadata": {
      "needs_background": "light"
     },
     "output_type": "display_data"
    },
    {
     "data": {
      "image/png": "[encoded data removed]",
      "text/plain": [
       "<Figure size 432x288 with 1 Axes>"
      ]
     },
     "metadata": {
      "needs_background": "light"
     },
     "output_type": "display_data"
    }
   ],
   "source": [
    "plt.figure()\n",
    "plt.imshow(X_train[ind].squeeze(),cmap='gray')\n",
    "def warp(im):#a slight random warp\n",
    "    ds=np.random.choice([1,2,3],8)\n",
    "    #Four corners of the image\n",
    "    dst=np.float32([[0,0],[im.shape[1],0],[im.shape[1],im.shape[0]],[0,im.shape[0]]])\n",
    "    #Random four points by image corners\n",
    "    src=np.float32([[ds[0],ds[1]],[im.shape[1]-ds[2],ds[3]],[im.shape[1]-ds[4],im.shape[0]-ds[5]],[ds[6],im.shape[0]-ds[7]]])\n",
    "    #Warp\n",
    "    im=cv2.warpPerspective(im,cv2.getPerspectiveTransform(src,dst),(im.shape[1],im.shape[0]),flags=cv2.INTER_LINEAR)\n",
    "    return im[:,:,np.newaxis]\n",
    "\n",
    "plt.figure()\n",
    "plt.imshow(warp(X_train[ind]).squeeze(),cmap='gray')\n",
    "print(X_train[0].shape)"
   ]
  },
  {
   "cell_type": "code",
   "execution_count": 10,
   "metadata": {},
   "outputs": [
    {
     "name": "stdout",
     "output_type": "stream",
     "text": [
      "Number of labels with less than 1000 examples:  27\n",
      "Max number new examples made:  40436\n"
     ]
    }
   ],
   "source": [
    "#Questtion\n",
    "#DId this so I could get idea of how long data augmentation would take at longest\n",
    "test=lblFreqs[np.where(lblFreqs<1000)]\n",
    "print(\"Number of labels with less than 1000 examples: \",len(test))\n",
    "print(\"Max number new examples made: \",4*test.sum())"
   ]
  },
  {
   "cell_type": "code",
   "execution_count": 12,
   "metadata": {},
   "outputs": [
    {
     "name": "stdout",
     "output_type": "stream",
     "text": [
      "(34799, 32, 32, 1)\n",
      "(34799,)\n",
      "0\n",
      "Start\n",
      "End\n",
      "6\n",
      "Start\n",
      "End\n",
      "14\n",
      "Start\n",
      "End\n",
      "15\n",
      "Start\n",
      "End\n",
      "16\n",
      "Start\n",
      "End\n",
      "17\n",
      "Start\n",
      "End\n",
      "19\n",
      "Start\n",
      "End\n",
      "20\n",
      "Start\n",
      "End\n",
      "21\n",
      "Start\n",
      "End\n",
      "22\n",
      "Start\n",
      "End\n",
      "23\n",
      "Start\n",
      "End\n",
      "24\n",
      "Start\n",
      "End\n",
      "26\n",
      "Start\n",
      "End\n",
      "27\n",
      "Start\n",
      "End\n",
      "28\n",
      "Start\n",
      "End\n",
      "29\n",
      "Start\n",
      "End\n",
      "30\n",
      "Start\n",
      "End\n",
      "31\n",
      "Start\n",
      "End\n",
      "32\n",
      "Start\n",
      "End\n",
      "33\n",
      "Start\n",
      "End\n",
      "34\n",
      "Start\n",
      "End\n",
      "36\n",
      "Start\n",
      "End\n",
      "37\n",
      "Start\n",
      "End\n",
      "39\n",
      "Start\n",
      "End\n",
      "40\n",
      "Start\n",
      "End\n",
      "41\n",
      "Start\n",
      "End\n",
      "42\n",
      "Start\n",
      "End\n",
      "(51419, 32, 32, 1)\n",
      "(51419,)\n"
     ]
    },
    {
     "data": {
      "image/png": "[encoded data removed]",
      "text/plain": [
       "<matplotlib.figure.Figure at 0x7fe53816c278>"
      ]
     },
     "metadata": {
      "needs_background": "light"
     },
     "output_type": "display_data"
    }
   ],
   "source": [
    "#WARNING DO NOT RUN THIS, IT TAKES A LONG TIME, INSTEAD RUN THE CELL AFTER THE NEXT TO LOAD DATA FROM FILE\n",
    "\n",
    "#only use this while loop if add something to keep track of images already augmented so there are not duplicates in dataset\n",
    "#while lblFreq.min()<1000:#While some label has less than 1000 examples\n",
    "\n",
    "#(small labels(<1000) have 5x number of images after, this should make everything have, at least 900 examples)\n",
    "print(X_train.shape)\n",
    "print(y_train.shape)\n",
    "#How to make this more efficient? Takes a while to run\n",
    "'''size=len(y_train)\n",
    "for i in range(size):\n",
    "    if lblFreqs[y_train[i]]<1000:#If get rid of this will increase size of dataset even more(but takes loneger)\n",
    "        #Add in 4 new images to training set with this label and update lblFreq accordingly\n",
    "        X_train=np.append(X_train,[translate(X_train[i])],axis=0)\n",
    "        y_train=np.append(y_train,[y_train[i]])\n",
    "        lblFreqs[y_train[i]]+=1\n",
    "        \n",
    "        X_train=np.append(X_train,[resize(X_train[i])],axis=0)\n",
    "        y_train=np.append(y_train,[y_train[i]])\n",
    "        lblFreqs[y_train[i]]+=1\n",
    "            \n",
    "        X_train=np.append(X_train,[bright(X_train[i])],axis=0)\n",
    "        y_train=np.append(y_train,[y_train[i]])\n",
    "        lblFreqs[y_train[i]]+=1\n",
    "        \n",
    "        X_train=np.append(X_train,[warp(X_train[i])],axis=0)\n",
    "        y_train=np.append(y_train,[y_train[i]])\n",
    "        lblFreqs[y_train[i]]+=1\n",
    "        '''\n",
    "#print(lblFreqs.dtype)\n",
    "for lbl in labls:\n",
    "    if lblFreqs[lbl]<1000:\n",
    "        print(lbl)\n",
    "        print('Start')\n",
    "        temp=X_train[np.where(y_train==lbl)]#Should be same indices\n",
    "        size=len(temp)\n",
    "        for i in range(size):\n",
    "            if lblFreqs[lbl]<1000:\n",
    "                #Add in 4 new images to training set with this label and update lblFreq accordingly\n",
    "                X_train=np.append(X_train,[translate(temp[i])],axis=0)\n",
    "                y_train=np.append(y_train,[lbl])\n",
    "                lblFreqs[lbl]+=1\n",
    "        \n",
    "                X_train=np.append(X_train,[resize(temp[i])],axis=0)\n",
    "                y_train=np.append(y_train,[lbl])\n",
    "                lblFreqs[lbl]+=1\n",
    "            \n",
    "                X_train=np.append(X_train,[bright(temp[i])],axis=0)\n",
    "                y_train=np.append(y_train,[lbl])\n",
    "                lblFreqs[lbl]+=1\n",
    "        \n",
    "                X_train=np.append(X_train,[warp(temp[i])],axis=0)\n",
    "                y_train=np.append(y_train,[lbl])\n",
    "                lblFreqs[lbl]+=1\n",
    "        print('End')\n",
    "print(X_train.shape)\n",
    "print(y_train.shape)\n",
    "#Show new distribution of training data by sign type(y_train)\n",
    "hist,bins=np.histogram(y_train,bins=numLabels)\n",
    "width = 0.7*(bins[1] - bins[0])\n",
    "center = (bins[:-1] + bins[1:]) / 2\n",
    "plt.bar(center, hist, align='center', width=width)\n",
    "plt.title(\"New distribution of training data by sign ID\")\n",
    "plt.show()"
   ]
  },
  {
   "cell_type": "code",
   "execution_count": 13,
   "metadata": {},
   "outputs": [],
   "source": [
    "#save the augmented data(it takes a long time to generate so will just load it after 1 time running it)\n",
    "augTrain={'features':X_train,'labels':y_train}\n",
    "pickle.dump(augTrain,open(\"./data/augTrain.p\",\"wb\"))"
   ]
  },
  {
   "cell_type": "code",
   "execution_count": 11,
   "metadata": {},
   "outputs": [
    {
     "name": "stdout",
     "output_type": "stream",
     "text": [
      "(51419, 32, 32, 1)\n",
      "(51419,)\n"
     ]
    }
   ],
   "source": [
    "###DON'T RUN THIS I TEMPORARILY REMOVED THE FILE SINCE IT WAS TOO LARGE AND WOULD NOT LET ME SUBMIT MY PROJECT WITH IT\n",
    "#If already augmented data one time skip 2 previous cells and just load it(is quicker)\n",
    "with open(\"./data/augTrain.p\", mode='rb') as f:\n",
    "    train = pickle.load(f)\n",
    "X_train, y_train = train['features'], train['labels']\n",
    "print(X_train.shape)\n",
    "print(y_train.shape)"
   ]
  },
  {
   "cell_type": "markdown",
   "metadata": {},
   "source": [
    "### Model Architecture"
   ]
  },
  {
   "cell_type": "code",
   "execution_count": 12,
   "metadata": {},
   "outputs": [],
   "source": [
    "import tensorflow as tf\n",
    "from tensorflow.contrib.layers import flatten\n",
    "\n",
    "#Model based on (http://yann.lecun.com/exdb/publis/pdf/sermanet-ijcnn-11.pdf) and LeNet model\n",
    "#TODO: Play with input and output shapes of hidden layers?\n",
    "#TODO: A little slow to train(maybe concatenate output from con3 with output from after subsumpling con2 since it is smaller than con1's,\n",
    "        #that would make input to fully connected layers about half the size and maybe make training quicker)\n",
    "        #so seeing results of model architectures and hyperparams(learnrate/batchsize/etc.) wouldn't take long\n",
    "\n",
    "def LeNetMod(x):    \n",
    "    #P=1 if 'SAME' P=0 if 'VALID'\n",
    "    #S=stride\n",
    "    #new_height = (input_height - filter_height + 2 * P)/S + 1\n",
    "    #new_width = (input_width - filter_width + 2 * P)/S + 1\n",
    "    mu = 0\n",
    "    sigma = 0.1\n",
    "    \n",
    "    weights = {\n",
    "    'con1': tf.Variable(tf.truncated_normal(shape=(5, 5, 1, 6), mean = mu, stddev = sigma)),\n",
    "    'con2': tf.Variable(tf.truncated_normal(shape=(5, 5, 6, 16), mean = mu, stddev = sigma)),\n",
    "    'con3': tf.Variable(tf.truncated_normal(shape=(5, 5, 16, 400), mean = mu, stddev = sigma)),\n",
    "    'full1': tf.Variable(tf.truncated_normal(shape=(1576, 43), mean = mu, stddev = sigma))\n",
    "    #'full2': tf.Variable(tf.truncated_normal(shape=(120, 84), mean = mu, stddev = sigma)),\n",
    "    #'full3': tf.Variable(tf.truncated_normal(shape=(84, 43), mean = mu, stddev = sigma))\n",
    "    }\n",
    "    \n",
    "    biases = [\n",
    "    tf.Variable(tf.zeros([6])),\n",
    "    tf.Variable(tf.zeros([16])),\n",
    "    tf.Variable(tf.zeros([400])),\n",
    "    tf.Variable(tf.zeros([43])),]\n",
    "    \n",
    "    #tf.Variable(tf.zeros([84])),\n",
    "    #tf.Variable(tf.zeros([43]))]\n",
    "    \n",
    "    #Layer 1: Convolutional. Input = 32x32x1. Output = 28x28x6.\n",
    "    x=tf.nn.conv2d(x, weights['con1'], strides=[1, 1, 1, 1], padding='VALID')\n",
    "    x = tf.nn.bias_add(x, biases[0])\n",
    "    #Activation.\n",
    "    x=tf.nn.relu(x)\n",
    "    #Maxpooling. Input = 28x28x6. Output = 14x14x6.\n",
    "    x=tf.nn.max_pool(x,ksize=[1, 2, 2, 1],strides=[1, 2, 2, 1],padding='SAME')\n",
    "    \n",
    "    #Make copy of 1st layer's output to add as input into fullyconnected layers later\n",
    "    l1Out=x\n",
    "    \n",
    "    #Layer 2: Convolutional. Output = 10x10x16.\n",
    "    x=tf.nn.conv2d(x, weights['con2'], strides=[1, 1, 1, 1], padding='VALID')\n",
    "    x = tf.nn.bias_add(x, biases[1])\n",
    "    #Activation.\n",
    "    x=tf.nn.relu(x)\n",
    "    #Maxpooling. Input = 10x10x16. Output = 5x5x16.\n",
    "    x=tf.nn.max_pool(x,ksize=[1, 2, 2, 1],strides=[1, 2, 2, 1],padding='SAME')\n",
    "    \n",
    "    \n",
    "    #Layer 3: Convolutional.(no subsampling(maxpooling)) Output = 1x1x400.\n",
    "    x=tf.nn.conv2d(x, weights['con3'], strides=[1, 1, 1, 1], padding='VALID')\n",
    "    x = tf.nn.bias_add(x, biases[2])\n",
    "    #Activation.\n",
    "    x=tf.nn.relu(x)\n",
    "    \n",
    "    \n",
    "    #Flattten and concatenate the inputs(1176,400) for fully connected layers Output = 1576\n",
    "    x=tf.concat([tf.contrib.layers.flatten(l1Out),tf.contrib.layers.flatten(x)], 1)\n",
    "    \n",
    "    #Dropout\n",
    "    x=tf.nn.dropout(x, keepProb)\n",
    "    \n",
    "    #Layer 4: Fully Connected. Input = 1576. Output = 43.\n",
    "    logits=tf.add(tf.matmul(x, weights['full1']),biases[3])\n",
    "    '''#Activation.\n",
    "    x=tf.nn.relu(x)\n",
    "    \n",
    "    #Drop out after fully connected layers\n",
    "    x=tf.nn.dropout(x, keepProb)\n",
    "    \n",
    "    #Layer 5: Fully Connected. Input = 120. Output = 84.\n",
    "    x=tf.add(tf.matmul(x, weights['full2']),biases[4])\n",
    "    #Activation.\n",
    "    x=tf.nn.relu(x)\n",
    "    \n",
    "    #Drop out after fully connected layers\n",
    "    x=tf.nn.dropout(x, keepProb)\n",
    "        \n",
    "    #Layer 6: Fully Connected.(Output layer) Input = 84. Output = 43.\n",
    "    logits=tf.add(tf.matmul(x, weights['full3']),biases[5])'''\n",
    "    return logits"
   ]
  },
  {
   "cell_type": "markdown",
   "metadata": {},
   "source": [
    "### Train, Validate and Test the Model"
   ]
  },
  {
   "cell_type": "markdown",
   "metadata": {},
   "source": [
    "A validation set can be used to assess how well the model is performing. A low accuracy on the training and validation\n",
    "sets imply underfitting. A high accuracy on the training set but low accuracy on the validation set implies overfitting."
   ]
  },
  {
   "cell_type": "code",
   "execution_count": 13,
   "metadata": {},
   "outputs": [],
   "source": [
    "#Question: What is a good validation accuracy for model/how many epochs should it take to reach that before you say model is not that good?\n",
    "\n",
    "#How to allocate data during training\n",
    "EPOCHS = 30\n",
    "BATCH_SIZE = 128\n",
    "\n",
    "#Placeholders\n",
    "x = tf.placeholder(tf.float32, (None, 32, 32, 1))\n",
    "y = tf.placeholder(tf.int32, (None))\n",
    "keepProb = tf.placeholder(tf.float32)\n",
    "one_hot_y = tf.one_hot(y, 43)\n",
    "\n",
    "#Training pipeline\n",
    "rate = 0.00095#AdamOptimize implements learning rate decay already?\n",
    "\n",
    "logits = LeNetMod(x)\n",
    "cross_entropy = tf.nn.softmax_cross_entropy_with_logits(labels=one_hot_y, logits=logits)\n",
    "loss_operation = tf.reduce_mean(cross_entropy)\n",
    "optimizer = tf.train.AdamOptimizer(learning_rate = rate)\n",
    "training_operation = optimizer.minimize(loss_operation)\n",
    "\n",
    "#Evaluate model(how well is it doing)\n",
    "correct_prediction = tf.equal(tf.argmax(logits, 1), tf.argmax(one_hot_y, 1))\n",
    "accuracy_operation = tf.reduce_mean(tf.cast(correct_prediction, tf.float32))\n",
    "saver = tf.train.Saver()\n",
    "\n",
    "def evaluate(X_data, y_data):\n",
    "    num_examples = len(X_data)\n",
    "    total_accuracy = 0\n",
    "    sess = tf.get_default_session()\n",
    "    for offset in range(0, num_examples, BATCH_SIZE):\n",
    "        batch_x, batch_y = X_data[offset:offset+BATCH_SIZE], y_data[offset:offset+BATCH_SIZE]\n",
    "        accuracy = sess.run(accuracy_operation, feed_dict={x: batch_x, y: batch_y,keepProb: 1.0})#Do not want dropout for evaluation\n",
    "        total_accuracy += (accuracy * len(batch_x))\n",
    "    return total_accuracy / num_examples"
   ]
  },
  {
   "cell_type": "code",
   "execution_count": 14,
   "metadata": {},
   "outputs": [
    {
     "name": "stdout",
     "output_type": "stream",
     "text": [
      "Training...\n",
      "\n",
      "EPOCH 1 ...\n",
      "Validation Accuracy = 0.839\n",
      "\n",
      "EPOCH 2 ...\n",
      "Validation Accuracy = 0.896\n",
      "\n",
      "EPOCH 3 ...\n",
      "Validation Accuracy = 0.901\n",
      "\n",
      "EPOCH 4 ...\n",
      "Validation Accuracy = 0.919\n",
      "\n",
      "EPOCH 5 ...\n",
      "Validation Accuracy = 0.927\n",
      "\n",
      "EPOCH 6 ...\n",
      "Validation Accuracy = 0.934\n",
      "\n",
      "EPOCH 7 ...\n",
      "Validation Accuracy = 0.938\n",
      "\n",
      "EPOCH 8 ...\n",
      "Validation Accuracy = 0.933\n",
      "\n",
      "EPOCH 9 ...\n",
      "Validation Accuracy = 0.951\n",
      "\n",
      "EPOCH 10 ...\n",
      "Validation Accuracy = 0.937\n",
      "\n",
      "EPOCH 11 ...\n",
      "Validation Accuracy = 0.937\n",
      "\n",
      "EPOCH 12 ...\n",
      "Validation Accuracy = 0.941\n",
      "\n",
      "EPOCH 13 ...\n",
      "Validation Accuracy = 0.943\n",
      "\n",
      "EPOCH 14 ...\n",
      "Validation Accuracy = 0.941\n",
      "\n",
      "EPOCH 15 ...\n",
      "Validation Accuracy = 0.944\n",
      "\n",
      "EPOCH 16 ...\n",
      "Validation Accuracy = 0.938\n",
      "\n",
      "EPOCH 17 ...\n",
      "Validation Accuracy = 0.945\n",
      "\n",
      "EPOCH 18 ...\n",
      "Validation Accuracy = 0.953\n",
      "\n",
      "EPOCH 19 ...\n",
      "Validation Accuracy = 0.950\n",
      "\n",
      "EPOCH 20 ...\n",
      "Validation Accuracy = 0.951\n",
      "\n",
      "EPOCH 21 ...\n",
      "Validation Accuracy = 0.948\n",
      "\n",
      "EPOCH 22 ...\n",
      "Validation Accuracy = 0.946\n",
      "\n",
      "EPOCH 23 ...\n",
      "Validation Accuracy = 0.959\n",
      "\n",
      "EPOCH 24 ...\n",
      "Validation Accuracy = 0.958\n",
      "\n",
      "EPOCH 25 ...\n",
      "Validation Accuracy = 0.946\n",
      "\n",
      "EPOCH 26 ...\n",
      "Validation Accuracy = 0.958\n",
      "\n",
      "EPOCH 27 ...\n",
      "Validation Accuracy = 0.952\n",
      "\n",
      "EPOCH 28 ...\n",
      "Validation Accuracy = 0.945\n",
      "\n",
      "EPOCH 29 ...\n",
      "Validation Accuracy = 0.949\n",
      "\n",
      "EPOCH 30 ...\n",
      "Validation Accuracy = 0.960\n",
      "\n",
      "EPOCH 31 ...\n",
      "Validation Accuracy = 0.961\n",
      "\n",
      "EPOCH 32 ...\n",
      "Validation Accuracy = 0.962\n",
      "\n",
      "EPOCH 33 ...\n",
      "Validation Accuracy = 0.957\n",
      "\n",
      "EPOCH 34 ...\n",
      "Validation Accuracy = 0.952\n",
      "\n",
      "EPOCH 35 ...\n",
      "Validation Accuracy = 0.954\n",
      "\n",
      "EPOCH 36 ...\n",
      "Validation Accuracy = 0.949\n",
      "\n",
      "EPOCH 37 ...\n",
      "Validation Accuracy = 0.960\n",
      "\n",
      "EPOCH 38 ...\n",
      "Validation Accuracy = 0.952\n",
      "\n",
      "EPOCH 39 ...\n",
      "Validation Accuracy = 0.958\n",
      "\n",
      "EPOCH 40 ...\n",
      "Validation Accuracy = 0.960\n",
      "\n",
      "EPOCH 41 ...\n",
      "Validation Accuracy = 0.954\n",
      "\n",
      "EPOCH 42 ...\n",
      "Validation Accuracy = 0.954\n",
      "\n",
      "EPOCH 43 ...\n",
      "Validation Accuracy = 0.951\n",
      "\n",
      "EPOCH 44 ...\n",
      "Validation Accuracy = 0.965\n",
      "\n",
      "EPOCH 45 ...\n",
      "Validation Accuracy = 0.955\n",
      "\n",
      "EPOCH 46 ...\n",
      "Validation Accuracy = 0.963\n",
      "\n",
      "EPOCH 47 ...\n",
      "Validation Accuracy = 0.949\n",
      "\n",
      "EPOCH 48 ...\n",
      "Validation Accuracy = 0.954\n",
      "\n",
      "EPOCH 49 ...\n",
      "Validation Accuracy = 0.964\n",
      "\n",
      "EPOCH 50 ...\n",
      "Validation Accuracy = 0.960\n",
      "\n",
      "EPOCH 51 ...\n",
      "Validation Accuracy = 0.960\n",
      "\n",
      "EPOCH 52 ...\n",
      "Validation Accuracy = 0.962\n",
      "\n",
      "EPOCH 53 ...\n",
      "Validation Accuracy = 0.962\n",
      "\n",
      "EPOCH 54 ...\n",
      "Validation Accuracy = 0.959\n",
      "\n",
      "EPOCH 55 ...\n",
      "Validation Accuracy = 0.959\n",
      "\n",
      "EPOCH 56 ...\n",
      "Validation Accuracy = 0.965\n",
      "\n",
      "EPOCH 57 ...\n",
      "Validation Accuracy = 0.963\n",
      "\n",
      "EPOCH 58 ...\n",
      "Validation Accuracy = 0.956\n",
      "\n",
      "EPOCH 59 ...\n",
      "Validation Accuracy = 0.949\n",
      "\n",
      "EPOCH 60 ...\n",
      "Validation Accuracy = 0.962\n",
      "\n",
      "Model saved\n"
     ]
    }
   ],
   "source": [
    "#TODO: Maybe in data augmentation make overl data more uniformly distribuited across labels\n",
    "        #or maybe have batches be uniformly distibruited across labels(batch size=86, and randomly choose 2 samples from each label?)\n",
    "    \n",
    "\n",
    "#Train then save the model\n",
    "from sklearn.utils import shuffle#for shuffling data order each epoch\n",
    "with tf.Session() as sess:\n",
    "    sess.run(tf.global_variables_initializer())\n",
    "    num_examples = len(X_train)\n",
    "    \n",
    "    print(\"Training...\")\n",
    "    print()\n",
    "    for i in range(EPOCHS):\n",
    "        X_train, y_train = shuffle(X_train, y_train)\n",
    "        for offset in range(0, num_examples, BATCH_SIZE):\n",
    "            end = offset + BATCH_SIZE\n",
    "            batch_x, batch_y = X_train[offset:end], y_train[offset:end]\n",
    "            sess.run(training_operation, feed_dict={x: batch_x, y: batch_y,keepProb: .5})\n",
    "            \n",
    "        validation_accuracy = evaluate(X_valid, y_valid)\n",
    "        print(\"EPOCH {} ...\".format(i+1))\n",
    "        print(\"Validation Accuracy = {:.3f}\".format(validation_accuracy))\n",
    "        print()\n",
    "        \n",
    "    saver.save(sess, './lenet')\n",
    "    print(\"Model saved\")\n",
    "### Calculate and report the accuracy on the training and validation set.\n",
    "\n",
    "### Feel free to use as many code cells as needed."
   ]
  },
  {
   "cell_type": "code",
   "execution_count": 15,
   "metadata": {},
   "outputs": [
    {
     "name": "stdout",
     "output_type": "stream",
     "text": [
      "INFO:tensorflow:Restoring parameters from ./lenet\n",
      "Test Accuracy = 0.950\n"
     ]
    }
   ],
   "source": [
    "#Get accuracy on test set\n",
    "with tf.Session() as sess:\n",
    "    saver.restore(sess, tf.train.latest_checkpoint('.'))\n",
    "\n",
    "    test_accuracy = evaluate(X_test, y_test)\n",
    "    print(\"Test Accuracy = {:.3f}\".format(test_accuracy))"
   ]
  },
  {
   "cell_type": "markdown",
   "metadata": {},
   "source": [
    "---\n",
    "\n",
    "## Step 3: Test a Model on New Images\n",
    "\n",
    "To give yourself more insight into how your model is working, download at least five pictures of German traffic signs from the web and use your model to predict the traffic sign type.\n",
    "\n",
    "You may find `signnames.csv` useful as it contains mappings from the class id (integer) to the actual sign name."
   ]
  },
  {
   "cell_type": "markdown",
   "metadata": {},
   "source": [
    "### Load and Output the Images"
   ]
  },
  {
   "cell_type": "code",
   "execution_count": 16,
   "metadata": {},
   "outputs": [
    {
     "name": "stdout",
     "output_type": "stream",
     "text": [
      "11\n",
      "38\n",
      "12\n",
      "18\n",
      "25\n",
      "3\n"
     ]
    },
    {
     "data": {
      "text/plain": [
       "<matplotlib.image.AxesImage at 0x112af1d68>"
      ]
     },
     "execution_count": 16,
     "metadata": {},
     "output_type": "execute_result"
    },
    {
     "data": {
      "image/png": "[encoded data removed]",
      "text/plain": [
       "<Figure size 432x288 with 1 Axes>"
      ]
     },
     "metadata": {
      "needs_background": "light"
     },
     "output_type": "display_data"
    },
    {
     "data": {
      "image/png": "[encoded data removed]",
      "text/plain": [
       "<Figure size 432x288 with 1 Axes>"
      ]
     },
     "metadata": {
      "needs_background": "light"
     },
     "output_type": "display_data"
    },
    {
     "data": {
      "image/png": "[encoded data removed]",
      "text/plain": [
       "<Figure size 432x288 with 1 Axes>"
      ]
     },
     "metadata": {
      "needs_background": "light"
     },
     "output_type": "display_data"
    },
    {
     "data": {
      "image/png": "[encoded data removed]",
      "text/plain": [
       "<Figure size 432x288 with 1 Axes>"
      ]
     },
     "metadata": {
      "needs_background": "light"
     },
     "output_type": "display_data"
    },
    {
     "data": {
      "image/png": "[encoded data removed]",
      "text/plain": [
       "<Figure size 432x288 with 1 Axes>"
      ]
     },
     "metadata": {
      "needs_background": "light"
     },
     "output_type": "display_data"
    },
    {
     "data": {
      "image/png": "[encoded data removed]",
      "text/plain": [
       "<Figure size 432x288 with 1 Axes>"
      ]
     },
     "metadata": {
      "needs_background": "light"
     },
     "output_type": "display_data"
    },
    {
     "data": {
      "image/png": "[encoded data removed]",
      "text/plain": [
       "<Figure size 432x288 with 1 Axes>"
      ]
     },
     "metadata": {
      "needs_background": "light"
     },
     "output_type": "display_data"
    }
   ],
   "source": [
    "import os\n",
    "\n",
    "import matplotlib.image as mpimg\n",
    "filenames=os.listdir('./RoadSigns')\n",
    "\n",
    "imgs=[]\n",
    "lbls=[]\n",
    "\n",
    "#Load images and their labels\n",
    "for sig in filenames:\n",
    "    absImgPath=os.path.join(os.getcwd(),'./RoadSigns',sig)\n",
    "    imgs.append(cv2.cvtColor(mpimg.imread(absImgPath), cv2.COLOR_RGBA2RGB))\n",
    "    lbls.append(sig[2:-4])\n",
    "#Show them\n",
    "for i in range(len(imgs)):\n",
    "    print(lbls[i])\n",
    "    plt.figure()\n",
    "    plt.imshow(imgs[i].squeeze())\n",
    "    \n",
    "imgs=np.array(imgs)\n",
    "lbls=np.array(lbls).astype('int32')\n",
    "#preds=np.array(lbls.shape,dtype='int32')#will store top 5 classes predicted\n",
    "\n",
    "#converting to grayscale(method used is average of RGB values)\n",
    "imgs=np.mean(imgs,axis=3,keepdims=True)\n",
    "\n",
    "#Normalize the images\n",
    "imgs=(imgs-128)/128\n",
    "plt.figure()\n",
    "plt.imshow(imgs[2].squeeze(),cmap='gray')"
   ]
  },
  {
   "cell_type": "markdown",
   "metadata": {},
   "source": [
    "## Predict Top 5 Sign Types for Each Image And Analyze Performance"
   ]
  },
  {
   "cell_type": "code",
   "execution_count": 17,
   "metadata": {},
   "outputs": [
    {
     "name": "stdout",
     "output_type": "stream",
     "text": [
      "INFO:tensorflow:Restoring parameters from ./lenet\n",
      "Actual label:11\n",
      "\tProbabilities:[0.89558464 0.06238653 0.01681104 0.00603555 0.00525095]\n",
      "\tSign IDs:[ 3  5 25 32 19]\n",
      "Actual label:38\n",
      "\tProbabilities:[0.8904384  0.05784721 0.00994102 0.00986218 0.0066033 ]\n",
      "\tSign IDs:[ 3  5 32 25  7]\n",
      "Actual label:12\n",
      "\tProbabilities:[0.88742113 0.06622103 0.01751783 0.00776538 0.00484625]\n",
      "\tSign IDs:[ 3  5 25 32 19]\n",
      "Actual label:18\n",
      "\tProbabilities:[0.87012047 0.07154928 0.02276944 0.00806732 0.00782918]\n",
      "\tSign IDs:[ 3  5 25 32 19]\n",
      "Actual label:25\n",
      "\tProbabilities:[0.8591604  0.0880468  0.02115086 0.00665569 0.00663256]\n",
      "\tSign IDs:[ 3  5 25 32 19]\n",
      "Actual label:3\n",
      "\tProbabilities:[0.8980051  0.06545733 0.01222124 0.00594599 0.00535352]\n",
      "\tSign IDs:[ 3  5 25 32 19]\n",
      "Accuracy = 0.167\n"
     ]
    },
    {
     "data": {
      "image/png": "[encoded data removed]",
      "text/plain": [
       "<Figure size 72x72 with 1 Axes>"
      ]
     },
     "metadata": {
      "needs_background": "light"
     },
     "output_type": "display_data"
    },
    {
     "data": {
      "image/png": "[encoded data removed]",
      "text/plain": [
       "<Figure size 72x72 with 1 Axes>"
      ]
     },
     "metadata": {
      "needs_background": "light"
     },
     "output_type": "display_data"
    },
    {
     "data": {
      "image/png": "[encoded data removed]",
      "text/plain": [
       "<Figure size 72x72 with 1 Axes>"
      ]
     },
     "metadata": {
      "needs_background": "light"
     },
     "output_type": "display_data"
    },
    {
     "data": {
      "image/png": "[encoded data removed]",
      "text/plain": [
       "<Figure size 72x72 with 1 Axes>"
      ]
     },
     "metadata": {
      "needs_background": "light"
     },
     "output_type": "display_data"
    },
    {
     "data": {
      "image/png": "[encoded data removed]",
      "text/plain": [
       "<Figure size 72x72 with 1 Axes>"
      ]
     },
     "metadata": {
      "needs_background": "light"
     },
     "output_type": "display_data"
    },
    {
     "data": {
      "image/png": "[encoded data removed]",
      "text/plain": [
       "<Figure size 72x72 with 1 Axes>"
      ]
     },
     "metadata": {
      "needs_background": "light"
     },
     "output_type": "display_data"
    }
   ],
   "source": [
    "#I think my training data is not that great, probably could use better methods to augment it,\n",
    "#since for a couple different model achitectures I would have high accuracy on validattion and test 96/97 valid and 94/95 ttest\n",
    "#but I would get 0 on the images below and every image would have mostly the same labels in their top5 with highest probability being around .24 \n",
    "\n",
    "topClasses=tf.nn.top_k(tf.nn.softmax(logits),k=5)\n",
    "\n",
    "with tf.Session() as sess:\n",
    "    saver.restore(sess, tf.train.latest_checkpoint('.'))\n",
    "    \n",
    "    topC = sess.run(topClasses, feed_dict={x: imgs, y: lbls,keepProb: 1.0})#Do not want dropout for evaluation\n",
    "\n",
    "    numCorr=0\n",
    "    for i in range(len(imgs)):\n",
    "        plt.figure(figsize=(1,1))\n",
    "        plt.imshow(imgs[i].squeeze(),cmap='gray')\n",
    "        print('Actual label:',end='')\n",
    "        print(lbls[i])\n",
    "        \n",
    "        print(\"\\tProbabilities:\",end='')\n",
    "        print(topC[0][i])\n",
    "        \n",
    "        print(\"\\tSign IDs:\",end='')\n",
    "        print(topC[1][i])\n",
    "        \n",
    "        #preds.append(topC)#save top 5 predictions, in case want them later\n",
    "        if topC[1][i][0]==lbls[i]:\n",
    "            numCorr+=1\n",
    "\n",
    "    acc=numCorr/len(imgs)\n",
    "    \n",
    "    print(\"Accuracy = {:.3f}\".format(acc))"
   ]
  },
  {
   "cell_type": "markdown",
   "metadata": {},
   "source": [
    "### Project Writeup\n",
    "\n",
    "Once you have completed the code implementation, document your results in a project writeup using this [template](https://github.com/udacity/CarND-Traffic-Sign-Classifier-Project/blob/master/writeup_template.md) as a guide. The writeup can be in a markdown or pdf file. "
   ]
  },
  {
   "cell_type": "markdown",
   "metadata": {},
   "source": [
    "> **Note**: Once you have completed all of the code implementations and successfully answered each question above, you may finalize your work by exporting the iPython Notebook as an HTML document. You can do this by using the menu above and navigating to  \\n\",\n",
    "    \"**File -> Download as -> HTML (.html)**. Include the finished document along with this notebook as your submission."
   ]
  },
  {
   "cell_type": "markdown",
   "metadata": {},
   "source": [
    "---\n",
    "\n",
    "## Step 4 (Optional): Visualize the Neural Network's State with Test Images\n",
    "\n",
    " This Section is not required to complete but acts as an additional excersise for understaning the output of a neural network's weights. While neural networks can be a great learning device they are often referred to as a black box. We can understand what the weights of a neural network look like better by plotting their feature maps. After successfully training your neural network you can see what it's feature maps look like by plotting the output of the network's weight layers in response to a test stimuli image. From these plotted feature maps, it's possible to see what characteristics of an image the network finds interesting. For a sign, maybe the inner network feature maps react with high activation to the sign's boundary outline or to the contrast in the sign's painted symbol.\n",
    "\n",
    " Provided for you below is the function code that allows you to get the visualization output of any tensorflow weight layer you want. The inputs to the function should be a stimuli image, one used during training or a new one you provided, and then the tensorflow variable name that represents the layer's state during the training process, for instance if you wanted to see what the [LeNet lab's](https://classroom.udacity.com/nanodegrees/nd013/parts/fbf77062-5703-404e-b60c-95b78b2f3f9e/modules/6df7ae49-c61c-4bb2-a23e-6527e69209ec/lessons/601ae704-1035-4287-8b11-e2c2716217ad/concepts/d4aca031-508f-4e0b-b493-e7b706120f81) feature maps looked like for it's second convolutional layer you could enter conv2 as the tf_activation variable.\n",
    "\n",
    "For an example of what feature map outputs look like, check out NVIDIA's results in their paper [End-to-End Deep Learning for Self-Driving Cars](https://devblogs.nvidia.com/parallelforall/deep-learning-self-driving-cars/) in the section Visualization of internal CNN State. NVIDIA was able to show that their network's inner weights had high activations to road boundary lines by comparing feature maps from an image with a clear path to one without. Try experimenting with a similar test to show that your trained network's weights are looking for interesting features, whether it's looking at differences in feature maps from images with or without a sign, or even what feature maps look like in a trained network vs a completely untrained one on the same sign image.\n",
    "\n",
    "<figure>\n",
    " <img src=\"visualize_cnn.png\" width=\"380\" alt=\"Combined Image\" />\n",
    " <figcaption>\n",
    " <p></p> \n",
    " <p style=\"text-align: center;\"> Your output should look something like this (above)</p> \n",
    " </figcaption>\n",
    "</figure>\n",
    " <p></p> \n"
   ]
  },
  {
   "cell_type": "code",
   "execution_count": null,
   "metadata": {
    "collapsed": true
   },
   "outputs": [],
   "source": [
    "### Visualize your network's feature maps here.\n",
    "### Feel free to use as many code cells as needed.\n",
    "\n",
    "# image_input: the test image being fed into the network to produce the feature maps\n",
    "# tf_activation: should be a tf variable name used during your training procedure that represents the calculated state of a specific weight layer\n",
    "# activation_min/max: can be used to view the activation contrast in more detail, by default matplot sets min and max to the actual min and max values of the output\n",
    "# plt_num: used to plot out multiple different weight feature map sets on the same block, just extend the plt number for each new feature map entry\n",
    "\n",
    "def outputFeatureMap(image_input, tf_activation, activation_min=-1, activation_max=-1 ,plt_num=1):\n",
    "    # Here make sure to preprocess your image_input in a way your network expects\n",
    "    # with size, normalization, ect if needed\n",
    "    # image_input =\n",
    "    # Note: x should be the same name as your network's tensorflow data placeholder variable\n",
    "    # If you get an error tf_activation is not defined it may be having trouble accessing the variable from inside a function\n",
    "    activation = tf_activation.eval(session=sess,feed_dict={x : image_input})\n",
    "    featuremaps = activation.shape[3]\n",
    "    plt.figure(plt_num, figsize=(15,15))\n",
    "    for featuremap in range(featuremaps):\n",
    "        plt.subplot(6,8, featuremap+1) # sets the number of feature maps to show on each row and column\n",
    "        plt.title('FeatureMap ' + str(featuremap)) # displays the feature map number\n",
    "        if activation_min != -1 & activation_max != -1:\n",
    "            plt.imshow(activation[0,:,:, featuremap], interpolation=\"nearest\", vmin =activation_min, vmax=activation_max, cmap=\"gray\")\n",
    "        elif activation_max != -1:\n",
    "            plt.imshow(activation[0,:,:, featuremap], interpolation=\"nearest\", vmax=activation_max, cmap=\"gray\")\n",
    "        elif activation_min !=-1:\n",
    "            plt.imshow(activation[0,:,:, featuremap], interpolation=\"nearest\", vmin=activation_min, cmap=\"gray\")\n",
    "        else:\n",
    "            plt.imshow(activation[0,:,:, featuremap], interpolation=\"nearest\", cmap=\"gray\")"
   ]
  }
 ],
 "metadata": {
  "anaconda-cloud": {},
  "kernelspec": {
   "display_name": "Python 3",
   "language": "python",
   "name": "python3"
  },
  "language_info": {
   "codemirror_mode": {
    "name": "ipython",
    "version": 3
   },
   "file_extension": ".py",
   "mimetype": "text/x-python",
   "name": "python",
   "nbconvert_exporter": "python",
   "pygments_lexer": "ipython3",
   "version": "3.5.2"
  },
  "widgets": {
   "state": {},
   "version": "1.1.2"
  }
 },
 "nbformat": 4,
 "nbformat_minor": 1
}
